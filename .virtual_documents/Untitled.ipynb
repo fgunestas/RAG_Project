


from components.rag_pipeline import rag_query
import sys 
print(sys.version)



user_query="Hansoku nedir"


response = rag_query(user_query,test=1)



