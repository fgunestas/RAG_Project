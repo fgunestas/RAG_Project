{
 "cells": [
  {
   "cell_type": "markdown",
   "id": "8d01a5bb-a999-45af-89fe-82482ebcc01d",
   "metadata": {
    "panel-layout": {
     "height": 110.75,
     "visible": true,
     "width": 100
    }
   },
   "source": [
    "# 🧠 LangGraph Tabanlı RAG Ajanı\n",
    "Bu notebook, örnek bir soru üzerine node ların nasıl cevaplar ürettiğini gösterir.\n"
   ]
  },
  {
   "cell_type": "code",
   "execution_count": 1,
   "id": "578d4d27-70d7-47d0-9654-009b2347e01e",
   "metadata": {},
   "outputs": [
    {
     "name": "stdout",
     "output_type": "stream",
     "text": [
      "3.12.3 | packaged by conda-forge | (main, Apr 15 2024, 18:20:11) [MSC v.1938 64 bit (AMD64)]\n"
     ]
    }
   ],
   "source": [
    "from components.rag_pipeline import rag_query\n",
    "import sys \n",
    "print(sys.version)\n"
   ]
  },
  {
   "cell_type": "code",
   "execution_count": 19,
   "id": "f13e25a0-bbc1-4b98-8460-e969b7afe56c",
   "metadata": {},
   "outputs": [],
   "source": [
    "user_query=\"what is zanshin\""
   ]
  },
  {
   "cell_type": "code",
   "execution_count": 21,
   "id": "1f8b7d5f-96cb-4667-949d-38f7612a4748",
   "metadata": {},
   "outputs": [
    {
     "name": "stdout",
     "output_type": "stream",
     "text": [
      "\"Output from node 'agent':\"\n",
      "AIMessage(content='', additional_kwargs={}, response_metadata={'model': 'llama3.2:3b', 'created_at': '2025-05-01T11:24:31.2050626Z', 'done': True, 'done_reason': 'stop', 'total_duration': 526459100, 'load_duration': 19456200, 'prompt_eval_count': 166, 'prompt_eval_duration': 5136800, 'eval_count': 19, 'eval_duration': 501357300, 'message': Message(role='assistant', content='', images=None, tool_calls=None), 'model_name': 'llama3.2:3b'}, id='run-f9cdb5fa-deb7-4256-a9fa-f4ae16a73077-0', tool_calls=[{'name': 'kendo', 'args': {'query': 'zanshin'}, 'id': '3cec9d12-f6e4-4aaa-a079-fbedad540506', 'type': 'tool_call'}], usage_metadata={'input_tokens': 166, 'output_tokens': 19, 'total_tokens': 185})\n",
      "'------'\n",
      "\"Output from node 'retriever':\"\n",
      "ToolMessage(content='Zan - shin \\n \\nZanshin is primarily a state of mind and although considered as a single entity it can be separated \\ninto two distinct aspects. Before we look at how to develop zanshin it is important to note that \\nzanshin should be practiced as an integral part of all your kendo training. The most common part \\nof zanshin refers to the state that a kendoka should adopt of remaining alert and guarded against \\neither a counter attack or a retaliation following a failed attack. The other aspect of zanshin is         \\nensuring that an attack is made without holding anything back. A simple way of  practicing the          \\nformer is to make sure your Kiai continues following a strike and that, after following though, you \\nestablish a threat posture against your opponent showing that you are ready to make a second \\nattack or receive a counter attack. Practicing kakegoe and developing your posture can assist\\n\\n– 8 –\\nII. Interpreting and Discerning Zanshin\\nZanshin is a general term for the mental and physical posture \\ntaken after executing a strike.\\nIf the attacker shows excessive excitement claiming the validity \\nof the strike in an improper manner, it will be deemed invalid. It \\nis important for shinpan-in to observe the posture and attitude of \\nthe attacker after the strike, thereby evaluating the entire striking \\naction.\\nMoreover, there is a difference in how zanshin is expressed after \\na technique executed off the mark with the timing of sen, and oji-\\nwaza (applied techniques). For example, in the case of oji-waza \\nand the like, it may be that zanshin can only be demonstrated \\nmomentarily.\\nIII. Interpretation and Application of the Regulations\\n1. Recognizing Foul Play (hansoku)\\nConcepts of what are “illegal,” “unfair,” “lawful” and \\n“appropriate” must be interpreted correctly. “illegal” conduct \\nis defined by that which is contrary to the regulations.\\n\\nattack or receive a counter attack. Practicing kakegoe and developing your posture can assist \\nwith the latter part of zanshin. Correct use of zanshin can also determine the effectiveness of               \\nni-dan and san-dan waza making sure that each consecutive strike is forceful and determined.          \\nRemember that correct zanshin is part of yuko-datotsu and an ippon will not be awarded if               \\nzanshin is lacking. \\n \\n \\nSeme San Sappo \\n \\nSeme-ai describes the state of mind where a kendoka maintains an attitude of dominance and \\ndetermination over an opponent during a match. Seme contains both physical and mental aspects \\nbut not always in exacting amounts. To explain this we must consider the three ways in which \\nseme can be utilized. This is referred too as San Sappo or the three types of attack that can be \\nmade against an opponent prior to executing a strike. \\n \\nThe first is the attack that can be made against an opponents spirit. This can be achieved in a\\n\\nquickly forward and follow through past motodachi using (Okuri-ashi) footwork. All the time \\nthrough the attack, maintaining good fighting spirit (zanshin) and strong Kiai sound, projecting \\nyour fighting spirit at the moment of attack (Fig C). If passing on your opponents left side you \\nmust turn in on your left showing (zanshin), when passing on the other side turn in to your right. \\nHidari Men (Left) Migi Men (Right)   Men attacks can be made to the right and left side of the men \\nbut only 45° to the right or left side with the correct angle (Hasuji) of your shinai, be careful as if \\nyou hit any lower you could hit your opponent on the ear and hurt or puncture their ear drum.            \\n22\\n\\nFig G. Then repeat the whole cycle again. You finish the second cycle with a strike         \\ndirectly to the centre of the motodachi men Fig H. Then follow through after this last men \\nattack finishing with good (zanshin) spirit to counterattack.   \\n19', name='kendo', id='15712651-8592-4d98-832c-547671893a1c', tool_call_id='3cec9d12-f6e4-4aaa-a079-fbedad540506')\n",
      "'------'\n",
      "\"Output from node 'rewrite':\"\n",
      "AIMessage(content='what is zanshin in feudal japan?', additional_kwargs={}, response_metadata={'model': 'llama3.2:3b', 'created_at': '2025-05-01T11:24:34.0859033Z', 'done': True, 'done_reason': 'stop', 'total_duration': 120844400, 'load_duration': 17113800, 'prompt_eval_count': 117, 'prompt_eval_duration': 4184900, 'eval_count': 10, 'eval_duration': 99034800, 'message': Message(role='assistant', content='', images=None, tool_calls=None), 'model_name': 'llama3.2:3b'}, id='run-34883a61-d88e-4744-a886-10d713cd62a5-0', usage_metadata={'input_tokens': 117, 'output_tokens': 10, 'total_tokens': 127})\n",
      "'------'\n",
      "\"Output from node 'agent':\"\n",
      "AIMessage(content=' \\n\\nIn Feudal Japan, Zanshin referred to a state of mind adopted by warriors, particularly samurai, before engaging in battle or during combat. It was a mental and physical posture that emphasized remaining alert, focused, and prepared for any possible action.\\n\\nThe concept of Zanshin was closely tied to the idea of \"yūkō\" (spirit) and \"shin\" (mind). A warrior who possessed Zanshin had a strong sense of focus, discipline, and determination. They were able to maintain their composure under pressure and remain aware of their surroundings, even in the most intense situations.\\n\\nZanshin was not just a mental state; it also involved physical postures and movements. A warrior with good Zanshin would adopt a specific stance, known as \"zento,\" which would allow them to react quickly and effectively to any attack or opportunity.\\n\\nThe concept of Zanshin is still studied and practiced today by martial artists and historians interested in the history and culture of Feudal Japan. It serves as an important reminder of the importance of mental discipline, focus, and physical awareness in achieving mastery over oneself and others.', additional_kwargs={}, response_metadata={'model': 'llama3.2:3b', 'created_at': '2025-05-01T11:24:36.3917904Z', 'done': True, 'done_reason': 'stop', 'total_duration': 2301886300, 'load_duration': 17105800, 'prompt_eval_count': 961, 'prompt_eval_duration': 104282400, 'eval_count': 235, 'eval_duration': 2176622800, 'message': Message(role='assistant', content=' \\n\\nIn Feudal Japan, Zanshin referred to a state of mind adopted by warriors, particularly samurai, before engaging in battle or during combat. It was a mental and physical posture that emphasized remaining alert, focused, and prepared for any possible action.\\n\\nThe concept of Zanshin was closely tied to the idea of \"yūkō\" (spirit) and \"shin\" (mind). A warrior who possessed Zanshin had a strong sense of focus, discipline, and determination. They were able to maintain their composure under pressure and remain aware of their surroundings, even in the most intense situations.\\n\\nZanshin was not just a mental state; it also involved physical postures and movements. A warrior with good Zanshin would adopt a specific stance, known as \"zento,\" which would allow them to react quickly and effectively to any attack or opportunity.\\n\\nThe concept of Zanshin is still studied and practiced today by martial artists and historians interested in the history and culture of Feudal Japan. It serves as an important reminder of the importance of mental discipline, focus, and physical awareness in achieving mastery over oneself and others.', images=None, tool_calls=None), 'model_name': 'llama3.2:3b'}, id='run-390c65a0-d262-44ff-a5e7-9e1b6345a617-0', usage_metadata={'input_tokens': 961, 'output_tokens': 235, 'total_tokens': 1196})\n",
      "'------'\n"
     ]
    }
   ],
   "source": [
    "response = rag_query(user_query,test=1)"
   ]
  },
  {
   "cell_type": "code",
   "execution_count": 23,
   "id": "191f1da1-5df6-4194-b9fb-84a8f9c8f620",
   "metadata": {},
   "outputs": [
    {
     "name": "stdout",
     "output_type": "stream",
     "text": [
      "content=' \\n\\nIn Feudal Japan, Zanshin referred to a state of mind adopted by warriors, particularly samurai, before engaging in battle or during combat. It was a mental and physical posture that emphasized remaining alert, focused, and prepared for any possible action.\\n\\nThe concept of Zanshin was closely tied to the idea of \"yūkō\" (spirit) and \"shin\" (mind). A warrior who possessed Zanshin had a strong sense of focus, discipline, and determination. They were able to maintain their composure under pressure and remain aware of their surroundings, even in the most intense situations.\\n\\nZanshin was not just a mental state; it also involved physical postures and movements. A warrior with good Zanshin would adopt a specific stance, known as \"zento,\" which would allow them to react quickly and effectively to any attack or opportunity.\\n\\nThe concept of Zanshin is still studied and practiced today by martial artists and historians interested in the history and culture of Feudal Japan. It serves as an important reminder of the importance of mental discipline, focus, and physical awareness in achieving mastery over oneself and others.' additional_kwargs={} response_metadata={'model': 'llama3.2:3b', 'created_at': '2025-05-01T11:24:36.3917904Z', 'done': True, 'done_reason': 'stop', 'total_duration': 2301886300, 'load_duration': 17105800, 'prompt_eval_count': 961, 'prompt_eval_duration': 104282400, 'eval_count': 235, 'eval_duration': 2176622800, 'message': Message(role='assistant', content=' \\n\\nIn Feudal Japan, Zanshin referred to a state of mind adopted by warriors, particularly samurai, before engaging in battle or during combat. It was a mental and physical posture that emphasized remaining alert, focused, and prepared for any possible action.\\n\\nThe concept of Zanshin was closely tied to the idea of \"yūkō\" (spirit) and \"shin\" (mind). A warrior who possessed Zanshin had a strong sense of focus, discipline, and determination. They were able to maintain their composure under pressure and remain aware of their surroundings, even in the most intense situations.\\n\\nZanshin was not just a mental state; it also involved physical postures and movements. A warrior with good Zanshin would adopt a specific stance, known as \"zento,\" which would allow them to react quickly and effectively to any attack or opportunity.\\n\\nThe concept of Zanshin is still studied and practiced today by martial artists and historians interested in the history and culture of Feudal Japan. It serves as an important reminder of the importance of mental discipline, focus, and physical awareness in achieving mastery over oneself and others.', images=None, tool_calls=None), 'model_name': 'llama3.2:3b'} id='run-390c65a0-d262-44ff-a5e7-9e1b6345a617-0' usage_metadata={'input_tokens': 961, 'output_tokens': 235, 'total_tokens': 1196}\n"
     ]
    }
   ],
   "source": [
    "print(response)"
   ]
  },
  {
   "cell_type": "code",
   "execution_count": null,
   "id": "c4ccb5a8-549c-406b-a492-12206cef2e6e",
   "metadata": {},
   "outputs": [],
   "source": []
  }
 ],
 "metadata": {
  "kernelspec": {
   "display_name": "Python 3 (ipykernel)",
   "language": "python",
   "name": "python3"
  },
  "language_info": {
   "codemirror_mode": {
    "name": "ipython",
    "version": 3
   },
   "file_extension": ".py",
   "mimetype": "text/x-python",
   "name": "python",
   "nbconvert_exporter": "python",
   "pygments_lexer": "ipython3",
   "version": "3.12.3"
  },
  "panel-cell-order": [
   "8d01a5bb-a999-45af-89fe-82482ebcc01d"
  ]
 },
 "nbformat": 4,
 "nbformat_minor": 5
}
